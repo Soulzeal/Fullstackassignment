{
 "cells": [
  {
   "attachments": {},
   "cell_type": "markdown",
   "metadata": {},
   "source": [
    "# 1. Reverse String.\n",
    "The problem is to create a program that uses the setTimeout() function to reverse a given string after a delay\n",
    "of 2 seconds. The program should use a variable “input” storing a string as input and then implement a delay of\n",
    "2 seconds before reversing the string. The reversed string should then be printed as output."
   ]
  },
  {
   "cell_type": "code",
   "execution_count": null,
   "metadata": {
    "vscode": {
     "languageId": "html"
    }
   },
   "outputs": [],
   "source": [
    "<!DOCTYPE html>\n",
    "<html>\n",
    "<head>\n",
    "    <title>Reverse String</title>\n",
    "</head>\n",
    "<body>\n",
    "    <h1>Reversing String : </h1>\n",
    "    <p id=\"original-text\">Original String:</p>\n",
    "    <p id=\"reversed-text\">Reversed String:</p>\n",
    "\n",
    "    <script>\n",
    "        let input = \"PW SKILLS\"; // Input string\n",
    "        let originalTextElement = document.getElementById(\"original-text\");\n",
    "        let reversedTextElement = document.getElementById(\"reversed-text\");\n",
    "\n",
    "        function reverseString(str) {\n",
    "            return str.split(\"\").reverse().join(\"\");\n",
    "        }\n",
    "\n",
    "        setTimeout(function() {\n",
    "            let reversedInput = reverseString(input);\n",
    "            originalTextElement.innerHTML += ` ${input}`;\n",
    "            reversedTextElement.innerHTML += ` ${reversedInput}`;\n",
    "        }, 2000);\n",
    "    \n",
    "    </script>\n",
    "</body>\n",
    "</html>\n"
   ]
  },
  {
   "cell_type": "markdown",
   "metadata": {
    "vscode": {
     "languageId": "plaintext"
    }
   },
   "source": [
    "# 2. Random Number Generator with Delay and Progress Indication:\n",
    "The goal of this program is to generate a random number after a delay of 3 seconds, and store the delay in a\n",
    "variable so can be modified. The program displays a message every second indicating the time remaining\n",
    "until the random number is generated and then outputs the generated number."
   ]
  },
  {
   "cell_type": "code",
   "execution_count": null,
   "metadata": {
    "vscode": {
     "languageId": "html"
    }
   },
   "outputs": [],
   "source": [
    "<!DOCTYPE html>\n",
    "<html lang=\"en\">\n",
    "  <head>\n",
    "    <meta charset=\"UTF-8\" />\n",
    "    <meta http-equiv=\"X-UA-Compatible\" content=\"IE=edge\" />\n",
    "    <meta name=\"viewport\" content=\"width=device-width, initial-scale=1.0\" />\n",
    "    <title>Document</title>\n",
    "    <style>\n",
    "      .stopper_wrapper,\n",
    "      .random_wrapper {\n",
    "        display: flex;\n",
    "        justify-content: flex-start;\n",
    "        align-items: center;\n",
    "        gap: 20px;\n",
    "        font-size: 2rem;\n",
    "      }\n",
    "\n",
    "      #timeRemaining {\n",
    "        display: flex;\n",
    "        justify-content: center;\n",
    "        align-items: center;\n",
    "        width: 30px;\n",
    "        border: 2px solid black;\n",
    "        border-radius: 50%;\n",
    "      }\n",
    "\n",
    "      #generatedNumber {\n",
    "        width: 300px;\n",
    "        display: flex;\n",
    "        justify-content: center;\n",
    "        align-items: center;\n",
    "        border: 2px solid black;\n",
    "        border-radius: 10px;\n",
    "      }\n",
    "    </style>\n",
    "  </head>\n",
    "  <body>\n",
    "    <h1 style=\"text-align: center; margin-bottom: 100px\">\n",
    "      Generating new random values per 3 seconds.\n",
    "    </h1>\n",
    "    <div class=\"stopper_wrapper\">\n",
    "      <h3 class=\"time_seconds\">Time remaining :</h3>\n",
    "      <p id=\"timeRemaining\"></p>\n",
    "    </div>\n",
    "    <div class=\"random_wrapper\">\n",
    "      <h3>Generated Random Number :</h3>\n",
    "      <p id=\"generatedNumber\"></p>\n",
    "    </div>\n",
    "\n",
    "    <script>\n",
    "      let remainingSeconds = 3;\n",
    "      let timeRemaining = document.getElementById(\"timeRemaining\");\n",
    "      let generatedNumber = document.getElementById(\"generatedNumber\");\n",
    "      timeRemaining.innerText = remainingSeconds;\n",
    "      generatedNumber.innerText = (Math.random() * 100).toFixed(3);\n",
    "\n",
    "      setInterval(() => {\n",
    "        if (remainingSeconds != 0) {\n",
    "          remainingSeconds = remainingSeconds - 1;\n",
    "        } else {\n",
    "          remainingSeconds = 3;\n",
    "          generatedNumber.innerText = (Math.random() * 100).toFixed(3);\n",
    "        }\n",
    "        timeRemaining.innerText = remainingSeconds;\n",
    "      }, 1000);\n",
    "    </script>\n",
    "  </body>\n",
    "</html>\n"
   ]
  },
  {
   "attachments": {},
   "cell_type": "markdown",
   "metadata": {},
   "source": [
    "# 3. Build a feature for Store's Inventory.\n",
    "Suppose a store has a list of items and their prices in US Dollars stored as an object. Create a JavaScript\n",
    "program to convert the prices to Indian Rupees using an exchange rate of 1 USD to 80 INR. The program should\n",
    "use the map higher-order function to create a new object with the converted prices in Rupees."
   ]
  },
  {
   "cell_type": "code",
   "execution_count": 5,
   "metadata": {
    "vscode": {
     "languageId": "javascript"
    }
   },
   "outputs": [
    {
     "ename": "SyntaxError",
     "evalue": "invalid syntax (245884875.py, line 1)",
     "output_type": "error",
     "traceback": [
      "\u001b[1;36m  File \u001b[1;32m\"C:\\Users\\sr041\\AppData\\Local\\Temp\\ipykernel_15556\\245884875.py\"\u001b[1;36m, line \u001b[1;32m1\u001b[0m\n\u001b[1;33m    let coursesInventory = {\u001b[0m\n\u001b[1;37m        ^\u001b[0m\n\u001b[1;31mSyntaxError\u001b[0m\u001b[1;31m:\u001b[0m invalid syntax\n"
     ]
    }
   ],
   "source": [
    "let coursesInventory = {\n",
    "\tbinary : 43.75 ,\n",
    "\tsigma : 37.5 ,\n",
    "\tdecode : 31.25\n",
    "}\n",
    "\n",
    "const usdToRupeeConverter = (inventory) => {\n",
    "\tconst exchangeRate = 80;\n",
    "\tconst inventoryEntries = Object.entries(inventory);\n",
    "\tconst convertedInventory = inventoryEntries.map( ([key , value]) => {\n",
    "\t\treturn [key , value * exchangeRate]\n",
    "\t});\n",
    "\tconst inventoryConvertedObject = Object.fromEntries(convertedInventory);\n",
    "\treturn inventoryConvertedObject;\n",
    "}\n",
    "\n",
    "console.log(usdToRupeeConverter(coursesInventory));"
   ]
  },
  {
   "attachments": {},
   "cell_type": "markdown",
   "metadata": {},
   "source": [
    "# 4. Write a program that takes a list of books, including their authors and publication years as input. The program\n",
    "should then filter out all books that were published before 2010 and create a new array with the remaining\n",
    "books, but with their author names capitalized."
   ]
  },
  {
   "cell_type": "code",
   "execution_count": 1,
   "metadata": {
    "vscode": {
     "languageId": "javascript"
    }
   },
   "outputs": [
    {
     "ename": "SyntaxError",
     "evalue": "invalid syntax (2782090339.py, line 1)",
     "output_type": "error",
     "traceback": [
      "\u001b[1;36m  File \u001b[1;32m\"C:\\Users\\sr041\\AppData\\Local\\Temp\\ipykernel_18892\\2782090339.py\"\u001b[1;36m, line \u001b[1;32m1\u001b[0m\n\u001b[1;33m    const books = [\u001b[0m\n\u001b[1;37m          ^\u001b[0m\n\u001b[1;31mSyntaxError\u001b[0m\u001b[1;31m:\u001b[0m invalid syntax\n"
     ]
    }
   ],
   "source": [
    "const books = [\n",
    "\t{title : 'java' , author : 'priya bhatia' , year : 2015} ,\n",
    "\t{title : 'java' , author : 'navin reddy' , year : 2007} ,\n",
    "\t{title : 'java' , author : 'hyder abbas' , year : 2008} ,\n",
    "\t{title : 'java' , author : 'vishwa mohan' , year : 20012} ,\n",
    "\t{title : 'java' , author : 'manvi tyagi' , year : 2013} ,\n",
    "\t{title : 'full stack' , author : \"anurag tiwari\" , year : 2014} ,\n",
    "\t{title : 'full stack' , author : \"sanket singh\" , year : 2010} ,\n",
    "\t{title : 'full stack' , author : \"hitesh choudhary\" , year : 2009} ,\n",
    "\t{title : 'data science' , author : \"krish nair\" , year : 2006} ,\n",
    "\t{title : 'data science' , author : \"sudhnshu kumar\" , year : 2011} ,\n",
    "\t{title : 'revolution' , author : \"physics wallah\" , year : 2005} ,\n",
    "]\n",
    "\n",
    "const authorCapitalizer = (books) => {\n",
    "\tconst publishedPrior2010 = books.filter( (book) => {\n",
    "\t\treturn book.year < 2010;\n",
    "\t});  \n",
    "\tconst capitalizedCollection = publishedPrior2010.map( (book) => {\n",
    "\t\treturn {\n",
    "\t\t\ttitle : book.title ,\n",
    "\t\t\tauthor : book.author.charAt(0).toUpperCase() + book.author.slice(1) ,\n",
    "\t\t\tyear : book.year\n",
    "\t\t}\n",
    "\t});\n",
    "\treturn capitalizedCollection; \n",
    "}\n",
    "console.log(authorCapitalizer(books));"
   ]
  },
  {
   "attachments": {},
   "cell_type": "markdown",
   "metadata": {},
   "source": [
    "# 5. URL validation.\n",
    "Write a program using a regex that matches valid URLs. Valid URLs should start with either http:// or https://,\n",
    "followed by one or more letters, digits, or special characters, followed by a dot, followed"
   ]
  },
  {
   "cell_type": "code",
   "execution_count": null,
   "metadata": {
    "vscode": {
     "languageId": "javascript"
    }
   },
   "outputs": [],
   "source": [
    "const regex = /^(https?:\\/\\/)[a-zA-Z\\d\\-.]+(\\.[a-zA-Z\\d\\-]{2,})(:[0-9]{1,5})?(\\/.*)?$/;\n",
    "\n",
    "const url1 = \"http://www.example.com\";\n",
    "const url2 = \"https://example.com/my-page12.html\";\n",
    "const url3 = \"ftp://invalid-url.com\";\n",
    "\n",
    "console.log(regex.test(url1)); // Output: true\n",
    "console.log(regex.test(url2)); // Output: true\n",
    "console.log(regex.test(url3)); // Output: false"
   ]
  },
  {
   "attachments": {},
   "cell_type": "markdown",
   "metadata": {},
   "source": [
    "# 6. LinkedIn Profile URL Validator.\n",
    "\n",
    "As a developer, you want to create a program that validates LinkedIn profile URLs to ensure that they are\n",
    "formatted correctly and contain only valid characters. Valid LinkedIn profile URLs should start with https://\n",
    "www.linkedin.com/in/ followed by a combination of one or more letters, digits, underscores, or hyphens, and\n",
    "end with a letter or digit. The length of the profile ID should be between 5 and 30 characters.\n",
    "The program should use a regular expression to match valid LinkedIn profile URLs, and should not match URLs\n",
    "that do not follow this format or contain invalid characters. The program should provide clear output messages\n",
    "indicating whether each input is a valid LinkedIn profile URL or not."
   ]
  },
  {
   "cell_type": "code",
   "execution_count": null,
   "metadata": {
    "vscode": {
     "languageId": "javascript"
    }
   },
   "outputs": [],
   "source": [
    "const linkedInRegex = /^https:\\/\\/www\\.linkedin\\.com\\/in\\/[a-zA-Z0-9_-]{5,30}[a-zA-Z0-9]$/;\n",
    "\n",
    "function validateLinkedInUrl(url) {\n",
    "  if (linkedInRegex.test(url)) {\n",
    "    console.log(`${url} is a valid LinkedIn profile URL.`);\n",
    "  } else {\n",
    "    console.log(`${url} is NOT a valid LinkedIn profile URL.`);\n",
    "  }\n",
    "}\n",
    "\n",
    "// Example Usage\n",
    "validateLinkedInUrl(\"https://www.linkedin.com/in/john-doe_12345\");\n",
    "validateLinkedInUrl(\"https://www.linkedin.com/in/JaneDoe-6789012345678901\"); \n",
    "validateLinkedInUrl(\"https://www.linkedin.com/in/invalid#@$URL\");\n"
   ]
  }
 ],
 "metadata": {
  "kernelspec": {
   "display_name": "base",
   "language": "python",
   "name": "python3"
  },
  "language_info": {
   "codemirror_mode": {
    "name": "ipython",
    "version": 3
   },
   "file_extension": ".py",
   "mimetype": "text/x-python",
   "name": "python",
   "nbconvert_exporter": "python",
   "pygments_lexer": "ipython3",
   "version": "3.9.13"
  },
  "orig_nbformat": 4
 },
 "nbformat": 4,
 "nbformat_minor": 2
}
